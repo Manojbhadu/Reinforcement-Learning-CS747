{
 "cells": [
  {
   "cell_type": "code",
   "execution_count": 1,
   "metadata": {},
   "outputs": [],
   "source": [
    "import numpy as np\n",
    "import pandas as pd"
   ]
  },
  {
   "cell_type": "code",
   "execution_count": 328,
   "metadata": {},
   "outputs": [],
   "source": [
    "mdp = 'data/mdp/episodic-mdp-10-5.txt'"
   ]
  },
  {
   "cell_type": "code",
   "execution_count": 329,
   "metadata": {},
   "outputs": [
    {
     "data": {
      "text/html": [
       "<div>\n",
       "<style scoped>\n",
       "    .dataframe tbody tr th:only-of-type {\n",
       "        vertical-align: middle;\n",
       "    }\n",
       "\n",
       "    .dataframe tbody tr th {\n",
       "        vertical-align: top;\n",
       "    }\n",
       "\n",
       "    .dataframe thead th {\n",
       "        text-align: right;\n",
       "    }\n",
       "</style>\n",
       "<table border=\"1\" class=\"dataframe\">\n",
       "  <thead>\n",
       "    <tr style=\"text-align: right;\">\n",
       "      <th></th>\n",
       "      <th>numStates 10</th>\n",
       "    </tr>\n",
       "  </thead>\n",
       "  <tbody>\n",
       "    <tr>\n",
       "      <th>0</th>\n",
       "      <td>numActions 5</td>\n",
       "    </tr>\n",
       "    <tr>\n",
       "      <th>1</th>\n",
       "      <td>start 6</td>\n",
       "    </tr>\n",
       "    <tr>\n",
       "      <th>2</th>\n",
       "      <td>end 0 5</td>\n",
       "    </tr>\n",
       "    <tr>\n",
       "      <th>3</th>\n",
       "      <td>transition 1 0 6 -0.37970486136133474 0.049335...</td>\n",
       "    </tr>\n",
       "    <tr>\n",
       "      <th>4</th>\n",
       "      <td>transition 1 0 5 0.4596634965202573 0.17220113...</td>\n",
       "    </tr>\n",
       "    <tr>\n",
       "      <th>...</th>\n",
       "      <td>...</td>\n",
       "    </tr>\n",
       "    <tr>\n",
       "      <th>118</th>\n",
       "      <td>transition 9 3 7 -0.7086191560928488 0.5180722...</td>\n",
       "    </tr>\n",
       "    <tr>\n",
       "      <th>119</th>\n",
       "      <td>transition 9 3 6 0.7836842174233938 0.24479737...</td>\n",
       "    </tr>\n",
       "    <tr>\n",
       "      <th>120</th>\n",
       "      <td>transition 9 4 6 0.3728362085971162 1.0</td>\n",
       "    </tr>\n",
       "    <tr>\n",
       "      <th>121</th>\n",
       "      <td>mdptype episodic</td>\n",
       "    </tr>\n",
       "    <tr>\n",
       "      <th>122</th>\n",
       "      <td>discount  1.0</td>\n",
       "    </tr>\n",
       "  </tbody>\n",
       "</table>\n",
       "<p>123 rows × 1 columns</p>\n",
       "</div>"
      ],
      "text/plain": [
       "                                          numStates 10\n",
       "0                                         numActions 5\n",
       "1                                              start 6\n",
       "2                                              end 0 5\n",
       "3    transition 1 0 6 -0.37970486136133474 0.049335...\n",
       "4    transition 1 0 5 0.4596634965202573 0.17220113...\n",
       "..                                                 ...\n",
       "118  transition 9 3 7 -0.7086191560928488 0.5180722...\n",
       "119  transition 9 3 6 0.7836842174233938 0.24479737...\n",
       "120            transition 9 4 6 0.3728362085971162 1.0\n",
       "121                                   mdptype episodic\n",
       "122                                      discount  1.0\n",
       "\n",
       "[123 rows x 1 columns]"
      ]
     },
     "execution_count": 329,
     "metadata": {},
     "output_type": "execute_result"
    }
   ],
   "source": [
    "df = pd.read_csv(mdp,)\n",
    "df"
   ]
  },
  {
   "cell_type": "code",
   "execution_count": null,
   "metadata": {},
   "outputs": [],
   "source": [
    "\n"
   ]
  },
  {
   "cell_type": "code",
   "execution_count": 332,
   "metadata": {},
   "outputs": [],
   "source": [
    "dict_mdp = {}\n",
    "a=[]\n",
    "with open(mdp) as fp:\n",
    "    lines = fp.readlines()\n",
    "    for line in lines:\n",
    "        a.append(line.split())"
   ]
  },
  {
   "cell_type": "code",
   "execution_count": null,
   "metadata": {},
   "outputs": [],
   "source": []
  },
  {
   "cell_type": "code",
   "execution_count": 241,
   "metadata": {},
   "outputs": [
    {
     "data": {
      "text/plain": [
       "array([-0.91903124,  0.93092977])"
      ]
     },
     "execution_count": 241,
     "metadata": {},
     "output_type": "execute_result"
    }
   ],
   "source": [
    "Reward[0][0][:]"
   ]
  },
  {
   "cell_type": "code",
   "execution_count": 105,
   "metadata": {},
   "outputs": [],
   "source": [
    "d = {}\n",
    "n=len(a)\n",
    "for i,j in enumerate(a[4:n-3]):\n",
    "    \n",
    "    d[j[1]]={}\n",
    "    d[j[1]][j[2]]={}\n",
    "    d[j[1]][j[2]][j[3]]={}\n",
    "    \n",
    "\n",
    "\n",
    "\n",
    "# dict_trans['trans'] = {}\n",
    "# #dict_reward = {}\n",
    "# for i in range(4,len(a)-2):\n",
    "#     dict_trans[a[i][1]] = {}\n",
    "#     dict_trans[a[i][1]][a[i][2]] = {}\n",
    "#     dict_trans[a[i][1]][a[i][3]] = {} \n",
    "#     dict_trans[a[i][1]][a[i][2]][a[i][3]] = a[i][4]\n",
    "#     #dict(d)\n",
    "#     #dict_reward[a[i][1]][a[i][2]][a[i][3]] = a[i][5]"
   ]
  },
  {
   "cell_type": "code",
   "execution_count": 121,
   "metadata": {},
   "outputs": [
    {
     "data": {
      "text/plain": [
       "'0'"
      ]
     },
     "execution_count": 121,
     "metadata": {},
     "output_type": "execute_result"
    }
   ],
   "source": [
    "a[2][1]"
   ]
  },
  {
   "cell_type": "code",
   "execution_count": 94,
   "metadata": {},
   "outputs": [
    {
     "name": "stdout",
     "output_type": "stream",
     "text": [
      "0 2\n",
      "1 3\n"
     ]
    }
   ],
   "source": [
    "b=[[2,3],[3,4],4]\n",
    "for i,j in enumerate(b[0:2]):\n",
    "    print(i,j[0])"
   ]
  },
  {
   "cell_type": "code",
   "execution_count": 334,
   "metadata": {},
   "outputs": [
    {
     "data": {
      "text/plain": [
       "[['numStates', '10'],\n",
       " ['numActions', '5'],\n",
       " ['start', '6'],\n",
       " ['end', '0', '5'],\n",
       " ['transition', '1', '0', '6', '-0.37970486136133474', '0.04933586337760911'],\n",
       " ['transition', '1', '0', '5', '0.4596634965202573', '0.1722011385199241'],\n",
       " ['transition', '1', '0', '3', '0.797676575935987', '0.21110056925996204'],\n",
       " ['transition', '1', '0', '8', '0.36796786383088254', '0.15370018975332067'],\n",
       " ['transition', '1', '0', '9', '-0.055714569094573285', '0.41366223908918404'],\n",
       " ['transition', '1', '1', '1', '-0.8134562712951798', '0.8329519450800915'],\n",
       " ['transition', '1', '1', '9', '0.6801824331108262', '0.16704805491990846'],\n",
       " ['transition', '1', '2', '6', '-0.5227681427695596', '0.06252382767823103'],\n",
       " ['transition', '1', '2', '4', '0.9350805005802867', '0.170987418985894'],\n",
       " ['transition', '1', '2', '3', '0.6063589385597401', '0.09931376286694625'],\n",
       " ['transition', '1', '2', '0', '-0.10406085712885926', '0.18223408311094166'],\n",
       " ['transition', '1', '2', '9', '-0.8391083628949292', '0.48494090735798706'],\n",
       " ['transition', '1', '3', '9', '0.9276770919476018', '1.0'],\n",
       " ['transition', '1', '4', '2', '-0.419340995194484', '0.2592986184909671'],\n",
       " ['transition', '1', '4', '5', '-0.6212173428912877', '0.03772582359192349'],\n",
       " ['transition', '1', '4', '1', '-0.6265409434888898', '0.048884165781083955'],\n",
       " ['transition', '1', '4', '6', '0.22554635973721338', '0.3698193411264612'],\n",
       " ['transition', '1', '4', '9', '0.31331877797925767', '0.2842720510095643'],\n",
       " ['transition', '2', '0', '8', '0.6989719303727342', '0.5270506108202443'],\n",
       " ['transition', '2', '0', '1', '0.7900779348533504', '0.47294938917975565'],\n",
       " ['transition', '2', '1', '9', '-0.027111596061666354', '0.35731300619342543'],\n",
       " ['transition', '2', '1', '7', '0.2602946808229456', '0.13244402096236302'],\n",
       " ['transition', '2', '1', '2', '0.6901551513430304', '0.05717008099094807'],\n",
       " ['transition', '2', '1', '1', '-0.5139287558762875', '0.45307289185326344'],\n",
       " ['transition', '2', '2', '2', '-0.9095318642687753', '0.5597597597597598'],\n",
       " ['transition', '2', '2', '1', '0.14773207357833384', '0.4402402402402402'],\n",
       " ['transition', '2', '3', '3', '-0.259720119329625', '0.08322382829610162'],\n",
       " ['transition', '2', '3', '4', '0.9610333012945373', '0.32238282961016207'],\n",
       " ['transition', '2', '3', '5', '-0.9272159247770284', '0.05562855891371003'],\n",
       " ['transition', '2', '3', '7', '-0.9567269802899518', '0.21506789312308366'],\n",
       " ['transition', '2', '3', '1', '0.9220625604792223', '0.32369689005694263'],\n",
       " ['transition', '2', '4', '1', '0.2938514396706451', '1.0'],\n",
       " ['transition', '3', '0', '1', '0.3986462501918546', '0.31159663865546217'],\n",
       " ['transition', '3', '0', '6', '-0.2174476057387027', '0.25210084033613445'],\n",
       " ['transition', '3', '0', '4', '-0.47973349156148304', '0.4363025210084034'],\n",
       " ['transition', '3', '1', '6', '-0.7655743122578951', '0.19284668479397615'],\n",
       " ['transition', '3', '1', '9', '0.8428367889272277', '0.1219410165237398'],\n",
       " ['transition', '3', '1', '8', '0.3312116440358681', '0.18740849194729137'],\n",
       " ['transition', '3', '1', '5', '-0.9735924829300433', '0.10897301819702991'],\n",
       " ['transition', '3', '1', '4', '0.3625613512084691', '0.38883078853796277'],\n",
       " ['transition', '3', '2', '9', '-0.32816689105307884', '0.1426086956521739'],\n",
       " ['transition', '3', '2', '6', '-0.9086070128631667', '0.4527536231884058'],\n",
       " ['transition', '3', '2', '4', '-0.4382336715633035', '0.4046376811594203'],\n",
       " ['transition', '3', '3', '0', '-0.2239655293749887', '0.0024067388688327317'],\n",
       " ['transition', '3', '3', '3', '-0.1711640234455054', '0.7328519855595668'],\n",
       " ['transition', '3', '3', '4', '0.30166572452669005', '0.2647412755716005'],\n",
       " ['transition', '3', '4', '0', '-0.936909043755128', '0.42549757934373317'],\n",
       " ['transition', '3', '4', '7', '0.7433763847027661', '0.3652501344809037'],\n",
       " ['transition', '3', '4', '4', '0.13494468358496636', '0.2092522861753631'],\n",
       " ['transition', '4', '0', '0', '0.8160797143191831', '1.0'],\n",
       " ['transition', '4', '0', '8', '0.2079547756237501', '0.0'],\n",
       " ['transition', '4', '1', '1', '0.6748967874877803', '0.3804444444444444'],\n",
       " ['transition', '4', '1', '2', '-0.7389564963158746', '0.288'],\n",
       " ['transition', '4', '1', '7', '-0.9705414265123484', '0.0035555555555555557'],\n",
       " ['transition', '4', '1', '8', '0.8990950685518235', '0.328'],\n",
       " ['transition', '4', '2', '8', '0.3770800080674168', '1.0'],\n",
       " ['transition', '4', '3', '5', '0.5996491133025517', '0.7535816618911175'],\n",
       " ['transition', '4', '3', '8', '-0.7684412023222462', '0.24641833810888253'],\n",
       " ['transition', '4', '4', '9', '-0.5885285186619049', '0.17309988062077197'],\n",
       " ['transition', '4', '4', '4', '-0.48066123488015333', '0.008754476721050538'],\n",
       " ['transition', '4', '4', '3', '-0.3705735363587357', '0.17250298448070037'],\n",
       " ['transition', '4', '4', '0', '-0.266212404691595', '0.15280541185833665'],\n",
       " ['transition', '4', '4', '8', '0.13493558630125468', '0.49283724631914044'],\n",
       " ['transition', '6', '0', '4', '0.17425100939028693', '0.2020312928904749'],\n",
       " ['transition', '6', '0', '6', '-0.9822058359018424', '0.026351907768322812'],\n",
       " ['transition', '6', '0', '0', '-0.6979536522720244', '0.09525116662091683'],\n",
       " ['transition', '6', '0', '1', '-0.3331832239402672', '0.21932473236343672'],\n",
       " ['transition', '6', '0', '7', '0.5792463178515652', '0.45704090035684874'],\n",
       " ['transition', '6', '1', '7', '0.9786060534191772', '1.0'],\n",
       " ['transition', '6', '2', '2', '0.714073159144077', '0.6526315789473685'],\n",
       " ['transition', '6', '2', '7', '0.4573214958736729', '0.3473684210526316'],\n",
       " ['transition', '6', '3', '5', '0.6816966652553431', '0.4504587155963303'],\n",
       " ['transition', '6', '3', '2', '0.952458915298114', '0.10917431192660551'],\n",
       " ['transition', '6', '3', '7', '-0.3126968126844645', '0.44036697247706424'],\n",
       " ['transition', '6', '4', '8', '0.6122369911456185', '0.13542361574382922'],\n",
       " ['transition', '6', '4', '3', '0.9829994982313888', '0.5123415610406938'],\n",
       " ['transition', '6', '4', '5', '-0.8261564513171513', '0.1514342895263509'],\n",
       " ['transition', '6', '4', '7', '0.6155451399783725', '0.2008005336891261'],\n",
       " ['transition', '7', '0', '9', '0.5765775380267009', '0.10726150925486473'],\n",
       " ['transition', '7', '0', '7', '0.4288127374545121', '0.12719506407214048'],\n",
       " ['transition', '7', '0', '8', '-0.5654929068231871', '0.28476506881822494'],\n",
       " ['transition', '7', '0', '3', '-0.832673514361211', '0.4807783578547698'],\n",
       " ['transition', '7', '1', '8', '0.5048768025177861', '0.6257668711656442'],\n",
       " ['transition', '7', '1', '3', '-0.5966241640014904', '0.37423312883435583'],\n",
       " ['transition', '7', '2', '9', '-0.0831839087898738', '0.07935341660543718'],\n",
       " ['transition', '7', '2', '2', '-0.2767158069254272', '0.44893460690668624'],\n",
       " ['transition', '7', '2', '3', '0.6539731793304437', '0.47171197648787655'],\n",
       " ['transition', '7', '3', '8', '0.0856181473995834', '0.5882352941176471'],\n",
       " ['transition', '7', '3', '3', '0.8626268091615006', '0.4117647058823529'],\n",
       " ['transition', '7', '4', '8', '0.4362633035536587', '0.073541842772612'],\n",
       " ['transition', '7', '4', '7', '0.6141107599501516', '0.44716821639898563'],\n",
       " ['transition', '7', '4', '3', '-0.8672817379244295', '0.47928994082840237'],\n",
       " ['transition', '8', '0', '5', '0.7238067710502454', '1.0'],\n",
       " ['transition', '8', '1', '1', '0.3571427135787182', '0.5025873221216042'],\n",
       " ['transition', '8', '1', '5', '0.6102199780642741', '0.4974126778783959'],\n",
       " ['transition', '8', '2', '5', '0.21485982218963584', '1.0'],\n",
       " ['transition', '8', '3', '3', '-0.012979956569024731', '0.6382175226586103'],\n",
       " ['transition', '8', '3', '5', '-0.4759849318422822', '0.36178247734138974'],\n",
       " ['transition', '8', '4', '8', '-0.8889459082206772', '0.3104173974044195'],\n",
       " ['transition', '8', '4', '2', '-0.9281323331396221', '0.21641529287969133'],\n",
       " ['transition', '8', '4', '3', '-0.16426791040741096', '0.2578042792002806'],\n",
       " ['transition', '8', '4', '5', '-0.016338081807472093', '0.21536303051560857'],\n",
       " ['transition', '9', '0', '2', '-0.7970389802621425', '0.8076923076923077'],\n",
       " ['transition', '9', '0', '6', '0.5562967084552013', '0.19230769230769232'],\n",
       " ['transition', '9', '1', '3', '0.5668339397969826', '0.17470881863560733'],\n",
       " ['transition', '9', '1', '1', '0.5549219770777176', '0.17970049916805325'],\n",
       " ['transition', '9', '1', '7', '-0.7780061530876665', '0.2653910149750416'],\n",
       " ['transition', '9', '1', '9', '-0.8796783445757668', '0.09595119245701608'],\n",
       " ['transition', '9', '1', '6', '0.4016348491190136', '0.2842484747642818'],\n",
       " ['transition', '9', '2', '5', '-0.11084079188731866', '0.013706793802145411'],\n",
       " ['transition', '9', '2', '7', '0.5132324425947301', '0.27532777115613827'],\n",
       " ['transition', '9', '2', '9', '-0.08905952637562442', '0.285160905840286'],\n",
       " ['transition', '9', '2', '1', '0.5791174565555663', '0.012216924910607866'],\n",
       " ['transition', '9', '2', '6', '-0.8493208295628796', '0.4135876042908224'],\n",
       " ['transition', '9', '3', '5', '0.890971096060349', '0.23713033953997809'],\n",
       " ['transition', '9', '3', '7', '-0.7086191560928488', '0.5180722891566265'],\n",
       " ['transition', '9', '3', '6', '0.7836842174233938', '0.2447973713033954'],\n",
       " ['transition', '9', '4', '6', '0.3728362085971162', '1.0'],\n",
       " ['mdptype', 'episodic'],\n",
       " ['discount', '1.0']]"
      ]
     },
     "execution_count": 334,
     "metadata": {},
     "output_type": "execute_result"
    }
   ],
   "source": [
    "a"
   ]
  },
  {
   "cell_type": "code",
   "execution_count": 127,
   "metadata": {},
   "outputs": [
    {
     "data": {
      "text/plain": [
       "2"
      ]
     },
     "execution_count": 127,
     "metadata": {},
     "output_type": "execute_result"
    }
   ],
   "source": [
    "len(a[3])"
   ]
  },
  {
   "cell_type": "code",
   "execution_count": 24,
   "metadata": {},
   "outputs": [],
   "source": [
    "from pulp import *"
   ]
  },
  {
   "cell_type": "markdown",
   "metadata": {},
   "source": [
    "# Try Here"
   ]
  },
  {
   "cell_type": "code",
   "execution_count": 336,
   "metadata": {},
   "outputs": [],
   "source": [
    "mdp = 'data/mdp/episodic-mdp-10-5.txt'\n",
    "a = []\n",
    "with open(mdp) as fp:\n",
    "    lines = fp.readlines()\n",
    "    for line in lines:\n",
    "        a.append(line.split())\n",
    "\n"
   ]
  },
  {
   "cell_type": "code",
   "execution_count": 337,
   "metadata": {},
   "outputs": [],
   "source": [
    "nS = int(a[0][1])\n",
    "nA = int(a[1][1])\n",
    "dt = {}\n",
    "end = []\n",
    "for i in range(1,len(a[3])):\n",
    "    end.append(a[3][i])\n",
    "endS = np.array(end.copy())\n",
    "dt['mdptype'] = a[-2][1]\n",
    "dt['gamma'] = float(a[-1][1])\n",
    "dt['start'] = int(a[2][1])\n",
    "Reward = np.zeros((nS,nA,nS))\n",
    "tranProb = np.zeros((nS,nA,nS))\n",
    "m = len(a)\n",
    "for i in range(4,len(a)-2):\n",
    "    Reward[int(a[i][1])][int(a[i][2])][int(a[i][3])] = float(a[i][4])\n",
    "    tranProb[int(a[i][1])][int(a[i][2])][int(a[i][3])] = float(a[i][5])"
   ]
  },
  {
   "cell_type": "code",
   "execution_count": 339,
   "metadata": {},
   "outputs": [
    {
     "data": {
      "text/plain": [
       "array([[[0.        , 0.        , 0.        , 0.        , 0.        ,\n",
       "         0.        , 0.        , 0.        , 0.        , 0.        ],\n",
       "        [0.        , 0.        , 0.        , 0.        , 0.        ,\n",
       "         0.        , 0.        , 0.        , 0.        , 0.        ],\n",
       "        [0.        , 0.        , 0.        , 0.        , 0.        ,\n",
       "         0.        , 0.        , 0.        , 0.        , 0.        ],\n",
       "        [0.        , 0.        , 0.        , 0.        , 0.        ,\n",
       "         0.        , 0.        , 0.        , 0.        , 0.        ],\n",
       "        [0.        , 0.        , 0.        , 0.        , 0.        ,\n",
       "         0.        , 0.        , 0.        , 0.        , 0.        ]],\n",
       "\n",
       "       [[0.        , 0.        , 0.        , 0.21110057, 0.        ,\n",
       "         0.17220114, 0.04933586, 0.        , 0.15370019, 0.41366224],\n",
       "        [0.        , 0.83295195, 0.        , 0.        , 0.        ,\n",
       "         0.        , 0.        , 0.        , 0.        , 0.16704805],\n",
       "        [0.18223408, 0.        , 0.        , 0.09931376, 0.17098742,\n",
       "         0.        , 0.06252383, 0.        , 0.        , 0.48494091],\n",
       "        [0.        , 0.        , 0.        , 0.        , 0.        ,\n",
       "         0.        , 0.        , 0.        , 0.        , 1.        ],\n",
       "        [0.        , 0.04888417, 0.25929862, 0.        , 0.        ,\n",
       "         0.03772582, 0.36981934, 0.        , 0.        , 0.28427205]],\n",
       "\n",
       "       [[0.        , 0.47294939, 0.        , 0.        , 0.        ,\n",
       "         0.        , 0.        , 0.        , 0.52705061, 0.        ],\n",
       "        [0.        , 0.45307289, 0.05717008, 0.        , 0.        ,\n",
       "         0.        , 0.        , 0.13244402, 0.        , 0.35731301],\n",
       "        [0.        , 0.44024024, 0.55975976, 0.        , 0.        ,\n",
       "         0.        , 0.        , 0.        , 0.        , 0.        ],\n",
       "        [0.        , 0.32369689, 0.        , 0.08322383, 0.32238283,\n",
       "         0.05562856, 0.        , 0.21506789, 0.        , 0.        ],\n",
       "        [0.        , 1.        , 0.        , 0.        , 0.        ,\n",
       "         0.        , 0.        , 0.        , 0.        , 0.        ]],\n",
       "\n",
       "       [[0.        , 0.31159664, 0.        , 0.        , 0.43630252,\n",
       "         0.        , 0.25210084, 0.        , 0.        , 0.        ],\n",
       "        [0.        , 0.        , 0.        , 0.        , 0.38883079,\n",
       "         0.10897302, 0.19284668, 0.        , 0.18740849, 0.12194102],\n",
       "        [0.        , 0.        , 0.        , 0.        , 0.40463768,\n",
       "         0.        , 0.45275362, 0.        , 0.        , 0.1426087 ],\n",
       "        [0.00240674, 0.        , 0.        , 0.73285199, 0.26474128,\n",
       "         0.        , 0.        , 0.        , 0.        , 0.        ],\n",
       "        [0.42549758, 0.        , 0.        , 0.        , 0.20925229,\n",
       "         0.        , 0.        , 0.36525013, 0.        , 0.        ]],\n",
       "\n",
       "       [[1.        , 0.        , 0.        , 0.        , 0.        ,\n",
       "         0.        , 0.        , 0.        , 0.        , 0.        ],\n",
       "        [0.        , 0.38044444, 0.288     , 0.        , 0.        ,\n",
       "         0.        , 0.        , 0.00355556, 0.328     , 0.        ],\n",
       "        [0.        , 0.        , 0.        , 0.        , 0.        ,\n",
       "         0.        , 0.        , 0.        , 1.        , 0.        ],\n",
       "        [0.        , 0.        , 0.        , 0.        , 0.        ,\n",
       "         0.75358166, 0.        , 0.        , 0.24641834, 0.        ],\n",
       "        [0.15280541, 0.        , 0.        , 0.17250298, 0.00875448,\n",
       "         0.        , 0.        , 0.        , 0.49283725, 0.17309988]],\n",
       "\n",
       "       [[0.        , 0.        , 0.        , 0.        , 0.        ,\n",
       "         0.        , 0.        , 0.        , 0.        , 0.        ],\n",
       "        [0.        , 0.        , 0.        , 0.        , 0.        ,\n",
       "         0.        , 0.        , 0.        , 0.        , 0.        ],\n",
       "        [0.        , 0.        , 0.        , 0.        , 0.        ,\n",
       "         0.        , 0.        , 0.        , 0.        , 0.        ],\n",
       "        [0.        , 0.        , 0.        , 0.        , 0.        ,\n",
       "         0.        , 0.        , 0.        , 0.        , 0.        ],\n",
       "        [0.        , 0.        , 0.        , 0.        , 0.        ,\n",
       "         0.        , 0.        , 0.        , 0.        , 0.        ]],\n",
       "\n",
       "       [[0.09525117, 0.21932473, 0.        , 0.        , 0.20203129,\n",
       "         0.        , 0.02635191, 0.4570409 , 0.        , 0.        ],\n",
       "        [0.        , 0.        , 0.        , 0.        , 0.        ,\n",
       "         0.        , 0.        , 1.        , 0.        , 0.        ],\n",
       "        [0.        , 0.        , 0.65263158, 0.        , 0.        ,\n",
       "         0.        , 0.        , 0.34736842, 0.        , 0.        ],\n",
       "        [0.        , 0.        , 0.10917431, 0.        , 0.        ,\n",
       "         0.45045872, 0.        , 0.44036697, 0.        , 0.        ],\n",
       "        [0.        , 0.        , 0.        , 0.51234156, 0.        ,\n",
       "         0.15143429, 0.        , 0.20080053, 0.13542362, 0.        ]],\n",
       "\n",
       "       [[0.        , 0.        , 0.        , 0.48077836, 0.        ,\n",
       "         0.        , 0.        , 0.12719506, 0.28476507, 0.10726151],\n",
       "        [0.        , 0.        , 0.        , 0.37423313, 0.        ,\n",
       "         0.        , 0.        , 0.        , 0.62576687, 0.        ],\n",
       "        [0.        , 0.        , 0.44893461, 0.47171198, 0.        ,\n",
       "         0.        , 0.        , 0.        , 0.        , 0.07935342],\n",
       "        [0.        , 0.        , 0.        , 0.41176471, 0.        ,\n",
       "         0.        , 0.        , 0.        , 0.58823529, 0.        ],\n",
       "        [0.        , 0.        , 0.        , 0.47928994, 0.        ,\n",
       "         0.        , 0.        , 0.44716822, 0.07354184, 0.        ]],\n",
       "\n",
       "       [[0.        , 0.        , 0.        , 0.        , 0.        ,\n",
       "         1.        , 0.        , 0.        , 0.        , 0.        ],\n",
       "        [0.        , 0.50258732, 0.        , 0.        , 0.        ,\n",
       "         0.49741268, 0.        , 0.        , 0.        , 0.        ],\n",
       "        [0.        , 0.        , 0.        , 0.        , 0.        ,\n",
       "         1.        , 0.        , 0.        , 0.        , 0.        ],\n",
       "        [0.        , 0.        , 0.        , 0.63821752, 0.        ,\n",
       "         0.36178248, 0.        , 0.        , 0.        , 0.        ],\n",
       "        [0.        , 0.        , 0.21641529, 0.25780428, 0.        ,\n",
       "         0.21536303, 0.        , 0.        , 0.3104174 , 0.        ]],\n",
       "\n",
       "       [[0.        , 0.        , 0.80769231, 0.        , 0.        ,\n",
       "         0.        , 0.19230769, 0.        , 0.        , 0.        ],\n",
       "        [0.        , 0.1797005 , 0.        , 0.17470882, 0.        ,\n",
       "         0.        , 0.28424847, 0.26539101, 0.        , 0.09595119],\n",
       "        [0.        , 0.01221692, 0.        , 0.        , 0.        ,\n",
       "         0.01370679, 0.4135876 , 0.27532777, 0.        , 0.28516091],\n",
       "        [0.        , 0.        , 0.        , 0.        , 0.        ,\n",
       "         0.23713034, 0.24479737, 0.51807229, 0.        , 0.        ],\n",
       "        [0.        , 0.        , 0.        , 0.        , 0.        ,\n",
       "         0.        , 1.        , 0.        , 0.        , 0.        ]]])"
      ]
     },
     "execution_count": 339,
     "metadata": {},
     "output_type": "execute_result"
    }
   ],
   "source": [
    "tranProb"
   ]
  },
  {
   "cell_type": "code",
   "execution_count": 293,
   "metadata": {},
   "outputs": [
    {
     "data": {
      "text/plain": [
       "(10,)"
      ]
     },
     "execution_count": 293,
     "metadata": {},
     "output_type": "execute_result"
    }
   ],
   "source": [
    "np.shape(Reward[1,0,:])\n"
   ]
  },
  {
   "cell_type": "code",
   "execution_count": 294,
   "metadata": {},
   "outputs": [],
   "source": [
    "class MDPs():\n",
    "    \"\"\"docstring for MDPs\"\"\"\n",
    "    def __init__(self, nS,nA,Reward,tranProb,gamma,mdptype):\n",
    "\n",
    "        self.nS = nS\n",
    "        self.nA = nA\n",
    "        self.Reward = Reward\n",
    "        self.tranProb = tranProb\n",
    "        self.gamma = gamma\n",
    "        self.mdptype = mdptype\n",
    "    def VI(self):\n",
    "        Vi = np.zeros(self.nS)\n",
    "        Vf = np.zeros(self.nS)\n",
    "\n",
    "        pi = np.zeros(self.nS)\n",
    "\n",
    "        count=0\n",
    "        while True:\n",
    "            Vf = np.zeros(self.nS)\n",
    "            pi = np.zeros(self.nS)\n",
    "            for s in range(self.nS):\n",
    "                max_tmp = np.sum((self.tranProb[s,0,:])*(self.Reward[s,0,:]+(self.gamma)*Vi))\n",
    "                for a in range(1,self.nA):\n",
    "                    tmp = np.sum((self.tranProb[s,a,:])*(self.Reward[s,a,:]+(self.gamma*Vi)))\n",
    "                    if tmp > max_tmp:\n",
    "                        pi[s]=a\n",
    "                        max_tmp = tmp\n",
    "                Vf[s] = max_tmp\n",
    "        \n",
    "\n",
    "            if np.allclose(Vf, Vi, rtol=1e-13, atol=1e-15) or count > 100000 :\n",
    "                    break\n",
    "            Vi = Vf.copy()\n",
    "            count+=1\n",
    "        #print(count)\n",
    "        return Vf, pi\n",
    "\n",
    "        \n",
    "    def HPI(self):\n",
    "        #Vprime = np.zeros(self.nS)\n",
    "        pi = np.zeros(self.nS,int)\n",
    "        flag = 1\n",
    "        count=0\n",
    "        while flag:\n",
    "            #solve n linear equations\n",
    "            prob = LpProblem(\"finding_V\")\n",
    "            Vs = LpVariable.dicts(\"V\",range(self.nS))\n",
    "            \n",
    "            for s in range(self.nS):\n",
    "                if self.mdptype == \"episodic\" and s == (self.nS-1) :\n",
    "                    prob += Vs[self.nS-1] == 0\n",
    "                else:\n",
    "                    prob += Vs[s] == lpSum([self.tranProb[s][pi[s]][sprime]*(self.Reward[s][pi[s]][sprime] + self.gamma*Vs[sprime]) for sprime in range(self.nS)])\n",
    "                 \n",
    "            prob.solve()\n",
    "            Vsn = np.array([Vs[i].value() for i in range(self.nS)])\n",
    "            \n",
    "            #Implementation of policy imporvement\n",
    "            #if improving action is found we will change the policy\n",
    "            for s in range(self.nS):\n",
    "                if self.mdptype == \"episodic\" and s == (self.nS-1) :\n",
    "                    continue\n",
    "                for a in range(self.nA):\n",
    "                    Q = np.sum((self.tranProb[s][a][:])*(self.Reward[s][a][:] + self.gamma*Vsn[:]))\n",
    "                        \n",
    "                    #if Q(s,a) > Vs(s) we will update policy\n",
    "                    #print(Q - Vs[s].value())\n",
    "                    if (Q - Vs[s].value() > 1e-6):\n",
    "                        pi[s] = a\n",
    "                        flag = 1\n",
    "                        break\n",
    "            count+=1\n",
    "            if count==100:\n",
    "                break\n",
    "            #print(count)\n",
    "        #when above while loop breaks it will give optimal policy\n",
    "        #now we have to calculate updated Vstart(optimal value function) for updated policy\n",
    "        prob_new= LpProblem(\"finding_Vstar\")\n",
    "        Vstar = LpVariable.dicts(\"V\", range(self.nS))\n",
    "        for s in range(self.nS):\n",
    "            if self.mdptype == \"episodic\" and s == (self.nS-1):\n",
    "                prob_new += Vstar[self.nS-1] == 0.0\n",
    "            else:\n",
    "                prob_new += Vstar[s] == lpSum([self.tranProb[s][pi[s]][sprime]*(self.Reward[s][pi[s]][sprime] + self.gamma*Vstar[sprime]) for sprime in range(self.nS)])\n",
    "\n",
    "        prob_new.solve()\n",
    "        Vf=np.zeros(self.nS)\n",
    "        for s in range(self.nS):\n",
    "            Vf[s] = Vstar[s].value()\n",
    "        return Vf, pi\n",
    "    \n",
    "    \n",
    "    def LP(self):\n",
    "        Vstar = []\n",
    "        piStar = []\n",
    "        prob = LpProblem(\"MDP_using_lp\", LpMinimize)\n",
    "        Vs = LpVariable.dicts(\"Value_of_state\",range(self.nS))\n",
    "        prob += lpSum([Vs[i] for i in range(self.nS)])\n",
    "        for s in range(self.nS):\n",
    "            if self.mdptype == 'episodic':\n",
    "                if s == self.nS -1:\n",
    "                    prob += Vs[s] == 0.0\n",
    "            for a in range(self.nA):\n",
    "                prob += Vs[s] >= lpSum([self.tranProb[s][a][s1]*(self.Reward[s][a][s1] + self.gamma*Vs[s1] ) for s1 in range(self.nS)])\n",
    "\n",
    "        prob.solve()\n",
    "\n",
    "        #Finding actions for the value function\n",
    "        actions = []\n",
    "        for s in range(self.nS):\n",
    "            for a in range(self.nA):\n",
    "                v = 0\n",
    "                for s1 in range(self.nS):\n",
    "                    v += self.tranProb[s][a][s1]*(self.Reward[s][a][s1] + self.gamma*Vs[s1].value())\n",
    "                if(abs(v - Vs[s].value()) < 1e-7):\n",
    "                    Vstar.append(Vs[s].value())\n",
    "                    piStar.append(a)\n",
    "                    break\n",
    "                \n",
    "        return Vstar, piStar        "
   ]
  },
  {
   "cell_type": "code",
   "execution_count": 295,
   "metadata": {},
   "outputs": [],
   "source": [
    "sol = MDPs(nS, nA, Reward, tranProb, dt['gamma'], dt['mdptype'])"
   ]
  },
  {
   "cell_type": "code",
   "execution_count": 296,
   "metadata": {},
   "outputs": [
    {
     "name": "stdout",
     "output_type": "stream",
     "text": [
      "0.0   0\n",
      "19.193935   1\n",
      "0.0   0\n",
      "20.881683   2\n"
     ]
    },
    {
     "ename": "IndexError",
     "evalue": "list index out of range",
     "output_type": "error",
     "traceback": [
      "\u001b[0;31m---------------------------------------------------------------------------\u001b[0m",
      "\u001b[0;31mIndexError\u001b[0m                                Traceback (most recent call last)",
      "\u001b[0;32m<ipython-input-296-9f6620a3e1b1>\u001b[0m in \u001b[0;36m<module>\u001b[0;34m\u001b[0m\n\u001b[1;32m      1\u001b[0m \u001b[0mVstar\u001b[0m\u001b[0;34m,\u001b[0m \u001b[0mpiStar\u001b[0m \u001b[0;34m=\u001b[0m \u001b[0msol\u001b[0m\u001b[0;34m.\u001b[0m\u001b[0mLP\u001b[0m\u001b[0;34m(\u001b[0m\u001b[0;34m)\u001b[0m\u001b[0;34m\u001b[0m\u001b[0;34m\u001b[0m\u001b[0m\n\u001b[1;32m      2\u001b[0m \u001b[0;32mfor\u001b[0m \u001b[0mi\u001b[0m \u001b[0;32min\u001b[0m \u001b[0mrange\u001b[0m\u001b[0;34m(\u001b[0m\u001b[0mnS\u001b[0m\u001b[0;34m)\u001b[0m\u001b[0;34m:\u001b[0m\u001b[0;34m\u001b[0m\u001b[0;34m\u001b[0m\u001b[0m\n\u001b[0;32m----> 3\u001b[0;31m     \u001b[0mprint\u001b[0m\u001b[0;34m(\u001b[0m\u001b[0mVstar\u001b[0m\u001b[0;34m[\u001b[0m\u001b[0mi\u001b[0m\u001b[0;34m]\u001b[0m\u001b[0;34m,\u001b[0m\u001b[0;34m\" \"\u001b[0m\u001b[0;34m,\u001b[0m\u001b[0mpiStar\u001b[0m\u001b[0;34m[\u001b[0m\u001b[0mi\u001b[0m\u001b[0;34m]\u001b[0m\u001b[0;34m)\u001b[0m\u001b[0;34m\u001b[0m\u001b[0;34m\u001b[0m\u001b[0m\n\u001b[0m",
      "\u001b[0;31mIndexError\u001b[0m: list index out of range"
     ]
    }
   ],
   "source": [
    "Vstar, piStar = sol.LP()\n",
    "for i in range(nS):\n",
    "    print(Vstar[i],\" \",piStar[i])"
   ]
  },
  {
   "cell_type": "code",
   "execution_count": null,
   "metadata": {},
   "outputs": [],
   "source": []
  },
  {
   "cell_type": "code",
   "execution_count": 203,
   "metadata": {},
   "outputs": [],
   "source": [
    "ans = pd.read_csv(\"data/mdp/sol-continuing-mdp-50-20.txt\", header = None,delimiter='')"
   ]
  },
  {
   "cell_type": "code",
   "execution_count": 277,
   "metadata": {
    "scrolled": false
   },
   "outputs": [
    {
     "name": "stdout",
     "output_type": "stream",
     "text": [
      "1.065079 1.065079\n"
     ]
    }
   ],
   "source": [
    "ans.columns=['ans1', 'ans2']\n",
    "\n",
    "print(str(format(ans['ans1'][0],'0.6f')),(format(Vstar[0],'0.6f')))"
   ]
  },
  {
   "cell_type": "code",
   "execution_count": 281,
   "metadata": {},
   "outputs": [
    {
     "name": "stdout",
     "output_type": "stream",
     "text": [
      "1\n",
      "38\n"
     ]
    }
   ],
   "source": [
    "for i in range(50):\n",
    "    if (str(format(ans['ans1'][i],'0.6f'))!=(format(Vstar[i],'0.6f'))):\n",
    "        print(i)"
   ]
  },
  {
   "cell_type": "code",
   "execution_count": 9,
   "metadata": {},
   "outputs": [],
   "source": [
    "def Bellman(T, R, V, gamma):\n",
    "    numStates = np.size(T)\n",
    "    T = np.reshape(T, (numStates, 1))\n",
    "    R = np.reshape(R, (numStates, 1))\n",
    "    R = R + gamma * V\n",
    "    result = np.matmul(np.transpose(T), R)\n",
    "    return result"
   ]
  },
  {
   "cell_type": "code",
   "execution_count": 10,
   "metadata": {},
   "outputs": [
    {
     "data": {
      "text/plain": [
       "array([[1.48655402, 1.48655402, 1.48655402, 1.48655402, 1.48655402,\n",
       "        1.48655402, 1.48655402, 1.48655402, 1.48655402, 1.48655402]])"
      ]
     },
     "execution_count": 10,
     "metadata": {},
     "output_type": "execute_result"
    }
   ],
   "source": [
    "Bellman(tranProb, Reward, np.zeros(nS),dt['gamma'])"
   ]
  },
  {
   "cell_type": "code",
   "execution_count": 11,
   "metadata": {},
   "outputs": [
    {
     "data": {
      "text/plain": [
       "500"
      ]
     },
     "execution_count": 11,
     "metadata": {},
     "output_type": "execute_result"
    }
   ],
   "source": [
    "np.size(tranProb)"
   ]
  },
  {
   "cell_type": "code",
   "execution_count": 344,
   "metadata": {},
   "outputs": [],
   "source": [
    "from operator import mul, add\n",
    "\n",
    "class MDPs():\n",
    "    \"\"\"docstring for MDPs\"\"\"\n",
    "    def __init__(self, nS,nA,Reward,tranProb,gamma,mdptype):\n",
    "\n",
    "        self.nS = nS\n",
    "        self.nA = nA\n",
    "        self.Reward = Reward\n",
    "        self.tranProb = tranProb\n",
    "        self.gamma = gamma\n",
    "        self.mdptype = mdptype\n",
    "    def VI(self):\n",
    "        Vi = np.zeros(self.nS)\n",
    "        Vf = np.zeros(self.nS)\n",
    "\n",
    "        pi = np.zeros(self.nS)\n",
    "\n",
    "        count=0\n",
    "        while True:\n",
    "            Vf = np.zeros(self.nS)\n",
    "            pi = np.zeros(self.nS)\n",
    "            for s in range(self.nS):\n",
    "                max_tmp = np.sum((self.tranProb[s,0,:])*(self.Reward[s,0,:]+(self.gamma)*Vi))\n",
    "                for a in range(1,self.nA):\n",
    "                    tmp = np.sum((self.tranProb[s,a,:])*(self.Reward[s,a,:]+(self.gamma*Vi)))\n",
    "                    if tmp > max_tmp:\n",
    "                        pi[s]=a\n",
    "                        max_tmp = tmp\n",
    "                Vf[s] = max_tmp\n",
    "        \n",
    "\n",
    "            if np.allclose(Vf, Vi, rtol=1e-13, atol=1e-15) or count > 100000 :\n",
    "                    break\n",
    "            Vi = Vf.copy()\n",
    "            count+=1\n",
    "        print(count)\n",
    "        return Vf, pi\n",
    "    def Value_function(self, s, pi):\n",
    "        V = np.zeros(self.nS)\n",
    "        eps = 1e-7\n",
    "        V1 = np.ones(self.nS)\n",
    "        while (np.linalg.norm(V1-V, ord=np.inf))>eps:\n",
    "            V = V1\n",
    "            V = V.reshape(1,1,self.nS)\n",
    "            V1 = np.sum(self.tranProb[s, pi,:]*(self.Reward[s, pi,:] + self.gamma*V), axis=-1)\n",
    "            V = V.reshape(-1)\n",
    "        return V\n",
    "        \n",
    "            \n",
    "    def hpi(self):\n",
    "\n",
    "        pi = np.zeros(self.nS, dtype=int)\n",
    "        s = np.array([i for i in range(self.nS)])\n",
    "        Vs = self.Value_function(s, pi)\n",
    "        Qs = np.sum(self.tranProb*(self.Reward+self.gamma*V), axis=-1)\n",
    "        Vs = Vs.reshape(self.nS, 1)\n",
    "        x = Qs-Vs\n",
    "        tmp_max = np.argmax(x, -1)\n",
    "        while(not np.all(pi==tmp_max)):\n",
    "            pi = tmp_max\n",
    "            Vs = self.Value_function(s, pi)\n",
    "            Qs = np.sum(self.tranProb*(self.Reward+self.gamma*V), axis=-1)\n",
    "            Vs = Vs.reshape(self.nS, 1)\n",
    "            x = Qs-Vs\n",
    "            if x.any()>0:\n",
    "                tmp_max = np.argmax(x, -1)\n",
    "        Vs = self.Value_function(s, pi)\n",
    "        Vs = Vs.reshape(self.nS)\n",
    "        return Vs,pi\n",
    "#         for i in range(self.nS):\n",
    "#             print('%10.6f'%V[i],'\\t',pi[i])\n",
    "            \n",
    "#     def lp(self):\n",
    "#         n = self.nS\n",
    "#         k = self.num_actions\n",
    "#         mdp = LpProblem(\"MDP\", LpMaximize)\n",
    "#         Var = LpVariable.dict(\"Value_Function\", range(n))\n",
    "#         mdp += lpSum([-Var[i] for i in range(n)])\n",
    "#         V = np.zeros((n, 1, 1), dtype = LpVariable)\n",
    "#         for i in range(n):\n",
    "#             V[i][0] = Var[i]\n",
    "        \n",
    "#         for i in range(n):\n",
    "#             for j in range(k):\n",
    "#                 val = self.val_fn(i, j, V)\n",
    "#                 mdp += Var[i]>=val\n",
    "            \n",
    "        \n",
    "#         mdp.solve(pulp.PULP_CBC_CMD(msg=0))\n",
    "#         V = np.zeros((self.num_states, 1))\n",
    "#         for i in range(self.num_states):\n",
    "#             V[i, 0] = Var[i].varValue\n",
    "\n",
    "#         V = V.reshape((1,1,self.num_states))\n",
    "#         pi = np.argmax(np.sum(self.T*(self.R + self.gamma*V), axis=-1), axis=-1)\n",
    "#         V = V.reshape(self.num_states)\n",
    "        \n",
    "#         for i in range(self.num_states):\n",
    "#             print('%10.6f'%V[i],'\\t',pi[i]) \n",
    "      \n",
    "    def val_fn(self, s, a, V):\n",
    "        T = self.tranProb[s, a, :]\n",
    "        R = self.Reward[s, a, :]\n",
    "        T = T.reshape((self.nS, 1))\n",
    "        V = V.reshape((self.nS, 1))\n",
    "        R = R.reshape((self.nS, 1))\n",
    "        R = R + self.gamma*V\n",
    "        x = np.transpose(T).dot(R)\n",
    "        return x[0][0]\n",
    "         \n",
    "        \n",
    "            \n",
    "        \n",
    "        \n",
    "        \n",
    "        \n",
    "            \n",
    "    \n",
    "        \n",
    "    \n",
    "       "
   ]
  },
  {
   "cell_type": "code",
   "execution_count": 345,
   "metadata": {},
   "outputs": [
    {
     "ename": "ValueError",
     "evalue": "operands could not be broadcast together with shapes (10,5,10) (50,1) ",
     "output_type": "error",
     "traceback": [
      "\u001b[0;31m---------------------------------------------------------------------------\u001b[0m",
      "\u001b[0;31mValueError\u001b[0m                                Traceback (most recent call last)",
      "\u001b[0;32m<ipython-input-345-c4a3d5532ef7>\u001b[0m in \u001b[0;36m<module>\u001b[0;34m\u001b[0m\n\u001b[1;32m      1\u001b[0m \u001b[0msol\u001b[0m \u001b[0;34m=\u001b[0m \u001b[0mMDPs\u001b[0m\u001b[0;34m(\u001b[0m\u001b[0mnS\u001b[0m\u001b[0;34m,\u001b[0m \u001b[0mnA\u001b[0m\u001b[0;34m,\u001b[0m \u001b[0mReward\u001b[0m\u001b[0;34m,\u001b[0m \u001b[0mtranProb\u001b[0m\u001b[0;34m,\u001b[0m \u001b[0mdt\u001b[0m\u001b[0;34m[\u001b[0m\u001b[0;34m'gamma'\u001b[0m\u001b[0;34m]\u001b[0m\u001b[0;34m,\u001b[0m \u001b[0mdt\u001b[0m\u001b[0;34m[\u001b[0m\u001b[0;34m'mdptype'\u001b[0m\u001b[0;34m]\u001b[0m\u001b[0;34m)\u001b[0m\u001b[0;34m\u001b[0m\u001b[0;34m\u001b[0m\u001b[0m\n\u001b[0;32m----> 2\u001b[0;31m \u001b[0mVstar\u001b[0m\u001b[0;34m,\u001b[0m \u001b[0mpiStar\u001b[0m \u001b[0;34m=\u001b[0m \u001b[0msol\u001b[0m\u001b[0;34m.\u001b[0m\u001b[0mhpi\u001b[0m\u001b[0;34m(\u001b[0m\u001b[0;34m)\u001b[0m\u001b[0;34m\u001b[0m\u001b[0;34m\u001b[0m\u001b[0m\n\u001b[0m\u001b[1;32m      3\u001b[0m \u001b[0;32mfor\u001b[0m \u001b[0mi\u001b[0m \u001b[0;32min\u001b[0m \u001b[0mrange\u001b[0m\u001b[0;34m(\u001b[0m\u001b[0mnS\u001b[0m\u001b[0;34m)\u001b[0m\u001b[0;34m:\u001b[0m\u001b[0;34m\u001b[0m\u001b[0;34m\u001b[0m\u001b[0m\n\u001b[1;32m      4\u001b[0m     \u001b[0mprint\u001b[0m\u001b[0;34m(\u001b[0m\u001b[0mVstar\u001b[0m\u001b[0;34m[\u001b[0m\u001b[0mi\u001b[0m\u001b[0;34m]\u001b[0m\u001b[0;34m,\u001b[0m\u001b[0;34m\" \"\u001b[0m\u001b[0;34m,\u001b[0m\u001b[0mpiStar\u001b[0m\u001b[0;34m[\u001b[0m\u001b[0mi\u001b[0m\u001b[0;34m]\u001b[0m\u001b[0;34m)\u001b[0m\u001b[0;34m\u001b[0m\u001b[0;34m\u001b[0m\u001b[0m\n",
      "\u001b[0;32m<ipython-input-344-ac691c08f0bd>\u001b[0m in \u001b[0;36mhpi\u001b[0;34m(self)\u001b[0m\n\u001b[1;32m     54\u001b[0m         \u001b[0ms\u001b[0m \u001b[0;34m=\u001b[0m \u001b[0mnp\u001b[0m\u001b[0;34m.\u001b[0m\u001b[0marray\u001b[0m\u001b[0;34m(\u001b[0m\u001b[0;34m[\u001b[0m\u001b[0mi\u001b[0m \u001b[0;32mfor\u001b[0m \u001b[0mi\u001b[0m \u001b[0;32min\u001b[0m \u001b[0mrange\u001b[0m\u001b[0;34m(\u001b[0m\u001b[0mself\u001b[0m\u001b[0;34m.\u001b[0m\u001b[0mnS\u001b[0m\u001b[0;34m)\u001b[0m\u001b[0;34m]\u001b[0m\u001b[0;34m)\u001b[0m\u001b[0;34m\u001b[0m\u001b[0;34m\u001b[0m\u001b[0m\n\u001b[1;32m     55\u001b[0m         \u001b[0mVs\u001b[0m \u001b[0;34m=\u001b[0m \u001b[0mself\u001b[0m\u001b[0;34m.\u001b[0m\u001b[0mValue_function\u001b[0m\u001b[0;34m(\u001b[0m\u001b[0ms\u001b[0m\u001b[0;34m,\u001b[0m \u001b[0mpi\u001b[0m\u001b[0;34m)\u001b[0m\u001b[0;34m\u001b[0m\u001b[0;34m\u001b[0m\u001b[0m\n\u001b[0;32m---> 56\u001b[0;31m         \u001b[0mQs\u001b[0m \u001b[0;34m=\u001b[0m \u001b[0mnp\u001b[0m\u001b[0;34m.\u001b[0m\u001b[0msum\u001b[0m\u001b[0;34m(\u001b[0m\u001b[0mself\u001b[0m\u001b[0;34m.\u001b[0m\u001b[0mtranProb\u001b[0m\u001b[0;34m*\u001b[0m\u001b[0;34m(\u001b[0m\u001b[0mself\u001b[0m\u001b[0;34m.\u001b[0m\u001b[0mReward\u001b[0m\u001b[0;34m+\u001b[0m\u001b[0mself\u001b[0m\u001b[0;34m.\u001b[0m\u001b[0mgamma\u001b[0m\u001b[0;34m*\u001b[0m\u001b[0mV\u001b[0m\u001b[0;34m)\u001b[0m\u001b[0;34m,\u001b[0m \u001b[0maxis\u001b[0m\u001b[0;34m=\u001b[0m\u001b[0;34m-\u001b[0m\u001b[0;36m1\u001b[0m\u001b[0;34m)\u001b[0m\u001b[0;34m\u001b[0m\u001b[0;34m\u001b[0m\u001b[0m\n\u001b[0m\u001b[1;32m     57\u001b[0m         \u001b[0mVs\u001b[0m \u001b[0;34m=\u001b[0m \u001b[0mVs\u001b[0m\u001b[0;34m.\u001b[0m\u001b[0mreshape\u001b[0m\u001b[0;34m(\u001b[0m\u001b[0mself\u001b[0m\u001b[0;34m.\u001b[0m\u001b[0mnS\u001b[0m\u001b[0;34m,\u001b[0m \u001b[0;36m1\u001b[0m\u001b[0;34m)\u001b[0m\u001b[0;34m\u001b[0m\u001b[0;34m\u001b[0m\u001b[0m\n\u001b[1;32m     58\u001b[0m         \u001b[0mx\u001b[0m \u001b[0;34m=\u001b[0m \u001b[0mQs\u001b[0m\u001b[0;34m-\u001b[0m\u001b[0mVs\u001b[0m\u001b[0;34m\u001b[0m\u001b[0;34m\u001b[0m\u001b[0m\n",
      "\u001b[0;31mValueError\u001b[0m: operands could not be broadcast together with shapes (10,5,10) (50,1) "
     ]
    }
   ],
   "source": [
    "sol = MDPs(nS, nA, Reward, tranProb, dt['gamma'], dt['mdptype'])\n",
    "Vstar, piStar = sol.hpi()\n",
    "for i in range(nS):\n",
    "    print(Vstar[i],\" \",piStar[i])"
   ]
  },
  {
   "cell_type": "code",
   "execution_count": 387,
   "metadata": {},
   "outputs": [
    {
     "data": {
      "text/plain": [
       "[]"
      ]
     },
     "execution_count": 387,
     "metadata": {},
     "output_type": "execute_result"
    }
   ],
   "source": [
    "file_name = \"data/maze/grid20.txt\"\n",
    "f = open(file_name)\n",
    "lines = [[i for i in line.split()] for line in f.read().split('\\n')]\n",
    "f.close()\n",
    "lines.pop()"
   ]
  },
  {
   "cell_type": "code",
   "execution_count": 395,
   "metadata": {},
   "outputs": [
    {
     "name": "stdout",
     "output_type": "stream",
     "text": [
      "1 1 1 1 1 1 1 1 1 1 1 1 1 1 1 1 1 1 1 1 1\n",
      "\n",
      "1 0 0 0 0 0 0 0 0 0 0 0 0 0 1 0 0 0 1 0 1\n",
      "\n",
      "1 1 1 0 1 1 1 0 1 1 1 1 1 0 1 0 1 0 1 0 1\n",
      "\n",
      "1 0 0 0 1 0 0 0 1 0 1 0 1 0 1 0 0 0 0 3 1\n",
      "\n",
      "1 1 1 1 1 1 1 0 1 0 1 0 1 0 1 0 1 0 1 1 1\n",
      "\n",
      "1 0 1 0 0 0 0 2 0 0 0 0 0 0 0 0 1 0 1 0 1\n",
      "\n",
      "1 0 1 1 1 0 1 1 1 1 1 1 1 0 1 0 1 0 1 0 1\n",
      "\n",
      "1 0 1 0 1 0 0 0 0 0 0 0 0 0 1 0 0 0 0 0 1\n",
      "\n",
      "1 0 1 0 1 1 1 0 1 1 1 0 1 1 1 1 1 0 1 1 1\n",
      "\n",
      "1 0 0 0 0 0 1 0 1 0 0 0 0 0 1 0 1 0 0 0 1\n",
      "\n",
      "1 0 1 1 1 0 1 1 1 1 1 0 1 1 1 0 1 0 1 0 1\n",
      "\n",
      "1 0 1 0 0 0 0 0 1 0 0 0 1 0 1 0 1 0 1 0 1\n",
      "\n",
      "1 0 1 1 1 0 1 0 1 1 1 0 1 0 1 0 1 0 1 1 1\n",
      "\n",
      "1 0 0 0 0 0 1 0 0 0 0 0 0 0 0 0 0 0 0 0 1\n",
      "\n",
      "1 1 1 0 1 0 1 0 1 0 1 0 1 1 1 0 1 0 1 1 1\n",
      "\n",
      "1 0 1 0 1 0 1 0 1 0 1 0 1 0 0 0 0 0 0 0 1\n",
      "\n",
      "1 0 1 0 1 1 1 1 1 1 1 0 1 1 1 0 1 0 1 1 1\n",
      "\n",
      "1 0 0 0 1 0 0 0 0 0 0 0 0 0 0 0 1 0 0 0 1\n",
      "\n",
      "1 0 1 1 1 0 1 0 1 1 1 0 1 1 1 0 1 1 1 0 1\n",
      "\n",
      "1 0 1 0 0 0 0 0 1 0 0 0 1 0 0 0 0 0 0 0 1\n",
      "\n",
      "1 1 1 1 1 1 1 1 1 1 1 1 1 1 1 1 1 1 1 1 1\n",
      "\n"
     ]
    }
   ],
   "source": [
    "for i in range(len(lines)):\n",
    "    #for j in range(len(lines)):\n",
    "    \n",
    "    print(lines[i][:])"
   ]
  },
  {
   "cell_type": "code",
   "execution_count": 393,
   "metadata": {},
   "outputs": [],
   "source": [
    "a = []\n",
    "with open(file_name) as fp:\n",
    "    lines = fp.readlines()\n",
    "    for line in lines:\n",
    "        a.append(line.split())\n"
   ]
  },
  {
   "cell_type": "code",
   "execution_count": 400,
   "metadata": {},
   "outputs": [
    {
     "ename": "IndentationError",
     "evalue": "expected an indented block (<ipython-input-400-ea42ef99f297>, line 8)",
     "output_type": "error",
     "traceback": [
      "\u001b[0;36m  File \u001b[0;32m\"<ipython-input-400-ea42ef99f297>\"\u001b[0;36m, line \u001b[0;32m8\u001b[0m\n\u001b[0;31m    parser.add_argument(\"--grid\",help='path to grid file')\u001b[0m\n\u001b[0m    ^\u001b[0m\n\u001b[0;31mIndentationError\u001b[0m\u001b[0;31m:\u001b[0m expected an indented block\n"
     ]
    }
   ],
   "source": [
    "import numpy as np\n",
    "import sys, argparse\n",
    "\n",
    "parser = argparse.ArgumentParser()\n",
    "\n",
    "def main():\n",
    "\n",
    "parser.add_argument(\"--grid\",help='path to grid file')\n",
    "args = parser.parse_args()\n",
    "\n",
    "mdpfile = args.grid\n",
    "file = open(filepath)\n",
    "\n",
    "a = [[i for i in line.split()] for line in f.read().split(\"\\n\")]\n",
    "file.close()\n",
    "a.pop()\n",
    "n = len(a)\n",
    "nS = 0\n",
    "states = {}\n",
    "\n",
    "for i in range(1,n-1):\n",
    "for j in range(1,n-1):\n",
    "    if a[i][j] == \"1\":\n",
    "        continue\n",
    "    else:\n",
    "        states[(i-1)*(n-1)+(j-1)] = nS\n",
    "        nS+=1\n",
    "\n",
    "        if a[i][j]==\"2\":\n",
    "            start_state = states[(i-1)*(n-1)+(j-1)]\n",
    "        elif a[i][j]== '3':\n",
    "            end_states = states[(i-1)*(n-1)+(j-1)]\n",
    "#start printing as MDP formulation\n",
    "print(\"num_states\",nS)\n",
    "print(\"numActions\",4)\n",
    "print(\"start\".start_state)\n",
    "print(\"end\", end_states)\n",
    "for i in range(1, n-1):\n",
    "for j in range(1, n-1):\n",
    "    if (i-1)*(n-1)+(j-1) in s and states[(i-1)*(n-1)+(j-1)]!=end:\n",
    "        if a[i-1][j]=='0':\n",
    "            print(\"transition\", states[(i-1)*(n-1)+(j-1)], 0, states[(i-2)*(n-1)+(j-1)], -1, 1)\n",
    "        elif a[i-1][j]=='3':\n",
    "            print(\"transition\", states[(i-1)*(n-1)+(j-1)], 0, states[(i-2)*(n-1)+(j-1)], nS*2, 1)\n",
    "\n",
    "        if a[i+1][j]=='0':\n",
    "            print(\"transition\", states[(i-1)*(n-1)+(j-1)], 3, states[i*(n-1)+(j-1)], -1, 1)\n",
    "        elif a[i+1][j]=='3':\n",
    "            print(\"transition\", states[(i-1)*(n-1)+(j-1)], 3, states[i*(n-1)+(j-1)], nS*2, 1)\n",
    "\n",
    "        if a[i][j-1-1]=='0':\n",
    "            print(\"transition\", states[(i-1)*(n-1)+(j-1)], 2, states[(i-1)*(n-1)+(j-2)], -1, 1)\n",
    "        elif a[i][j-1]=='3':\n",
    "            print(\"transition\", states[(i-1)*(n-1)+(j-1)], 2, states[(i-1)*(n-1)+(j-2)], nS*2, 1)\n",
    "\n",
    "        if a[i][j+1]=='0':\n",
    "            print(\"transition\", states[(i-1)*(n-1)+(j-1)], 1, states[(i-1)*(n-1)+j], -1, 1)\n",
    "        elif a[i][j+1]=='3':\n",
    "            print(\"transition\", states[(i-1)*(n-1)+(j-1)], 1, s[(i-1)*(n-1)+j], nS*2, 1)\n",
    "\n",
    "print(\"mdptype episodic\")\n",
    "print(\"discount \", 0.95)\n",
    "\n",
    "if __name__ == \"__main__\":\n",
    "main()"
   ]
  },
  {
   "cell_type": "code",
   "execution_count": 300,
   "metadata": {},
   "outputs": [
    {
     "data": {
      "text/plain": [
       "array([[5.0295264, 5.0295264, 5.0295264, 5.0295264, 5.0295264, 5.0295264,\n",
       "        5.0295264, 5.0295264, 5.0295264, 5.0295264]])"
      ]
     },
     "execution_count": 300,
     "metadata": {},
     "output_type": "execute_result"
    }
   ],
   "source": [
    "Bellman(tranProb, Reward, np.zeros(nS), 0.9)"
   ]
  },
  {
   "cell_type": "code",
   "execution_count": null,
   "metadata": {},
   "outputs": [],
   "source": []
  }
 ],
 "metadata": {
  "kernelspec": {
   "display_name": "Python 3",
   "language": "python",
   "name": "python3"
  },
  "language_info": {
   "codemirror_mode": {
    "name": "ipython",
    "version": 3
   },
   "file_extension": ".py",
   "mimetype": "text/x-python",
   "name": "python",
   "nbconvert_exporter": "python",
   "pygments_lexer": "ipython3",
   "version": "3.8.5"
  }
 },
 "nbformat": 4,
 "nbformat_minor": 4
}
